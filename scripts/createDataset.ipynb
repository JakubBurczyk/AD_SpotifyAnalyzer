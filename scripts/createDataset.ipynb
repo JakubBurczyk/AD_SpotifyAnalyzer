{
 "cells": [
  {
   "cell_type": "code",
   "execution_count": 1,
   "metadata": {},
   "outputs": [],
   "source": [
    "import pandas as pd"
   ]
  },
  {
   "cell_type": "code",
   "execution_count": 2,
   "metadata": {},
   "outputs": [
    {
     "data": {
      "text/html": [
       "<div>\n",
       "<style scoped>\n",
       "    .dataframe tbody tr th:only-of-type {\n",
       "        vertical-align: middle;\n",
       "    }\n",
       "\n",
       "    .dataframe tbody tr th {\n",
       "        vertical-align: top;\n",
       "    }\n",
       "\n",
       "    .dataframe thead th {\n",
       "        text-align: right;\n",
       "    }\n",
       "</style>\n",
       "<table border=\"1\" class=\"dataframe\">\n",
       "  <thead>\n",
       "    <tr style=\"text-align: right;\">\n",
       "      <th></th>\n",
       "      <th>title</th>\n",
       "      <th>rank</th>\n",
       "      <th>date</th>\n",
       "      <th>artist</th>\n",
       "      <th>url</th>\n",
       "      <th>region</th>\n",
       "      <th>chart</th>\n",
       "      <th>trend</th>\n",
       "      <th>streams</th>\n",
       "    </tr>\n",
       "  </thead>\n",
       "  <tbody>\n",
       "    <tr>\n",
       "      <th>0</th>\n",
       "      <td>Chantaje (feat. Maluma)</td>\n",
       "      <td>1</td>\n",
       "      <td>2017-01-01</td>\n",
       "      <td>Shakira</td>\n",
       "      <td>https://open.spotify.com/track/6mICuAdrwEjh6Y6...</td>\n",
       "      <td>Argentina</td>\n",
       "      <td>top200</td>\n",
       "      <td>SAME_POSITION</td>\n",
       "      <td>253019.0</td>\n",
       "    </tr>\n",
       "    <tr>\n",
       "      <th>1</th>\n",
       "      <td>Vente Pa' Ca (feat. Maluma)</td>\n",
       "      <td>2</td>\n",
       "      <td>2017-01-01</td>\n",
       "      <td>Ricky Martin</td>\n",
       "      <td>https://open.spotify.com/track/7DM4BPaS7uofFul...</td>\n",
       "      <td>Argentina</td>\n",
       "      <td>top200</td>\n",
       "      <td>MOVE_UP</td>\n",
       "      <td>223988.0</td>\n",
       "    </tr>\n",
       "    <tr>\n",
       "      <th>2</th>\n",
       "      <td>Reggaetón Lento (Bailemos)</td>\n",
       "      <td>3</td>\n",
       "      <td>2017-01-01</td>\n",
       "      <td>CNCO</td>\n",
       "      <td>https://open.spotify.com/track/3AEZUABDXNtecAO...</td>\n",
       "      <td>Argentina</td>\n",
       "      <td>top200</td>\n",
       "      <td>MOVE_DOWN</td>\n",
       "      <td>210943.0</td>\n",
       "    </tr>\n",
       "    <tr>\n",
       "      <th>3</th>\n",
       "      <td>Safari</td>\n",
       "      <td>4</td>\n",
       "      <td>2017-01-01</td>\n",
       "      <td>J Balvin, Pharrell Williams, BIA, Sky</td>\n",
       "      <td>https://open.spotify.com/track/6rQSrBHf7HlZjtc...</td>\n",
       "      <td>Argentina</td>\n",
       "      <td>top200</td>\n",
       "      <td>SAME_POSITION</td>\n",
       "      <td>173865.0</td>\n",
       "    </tr>\n",
       "    <tr>\n",
       "      <th>4</th>\n",
       "      <td>Shaky Shaky</td>\n",
       "      <td>5</td>\n",
       "      <td>2017-01-01</td>\n",
       "      <td>Daddy Yankee</td>\n",
       "      <td>https://open.spotify.com/track/58IL315gMSTD37D...</td>\n",
       "      <td>Argentina</td>\n",
       "      <td>top200</td>\n",
       "      <td>MOVE_UP</td>\n",
       "      <td>153956.0</td>\n",
       "    </tr>\n",
       "  </tbody>\n",
       "</table>\n",
       "</div>"
      ],
      "text/plain": [
       "                         title  rank        date  \\\n",
       "0      Chantaje (feat. Maluma)     1  2017-01-01   \n",
       "1  Vente Pa' Ca (feat. Maluma)     2  2017-01-01   \n",
       "2   Reggaetón Lento (Bailemos)     3  2017-01-01   \n",
       "3                       Safari     4  2017-01-01   \n",
       "4                  Shaky Shaky     5  2017-01-01   \n",
       "\n",
       "                                  artist  \\\n",
       "0                                Shakira   \n",
       "1                           Ricky Martin   \n",
       "2                                   CNCO   \n",
       "3  J Balvin, Pharrell Williams, BIA, Sky   \n",
       "4                           Daddy Yankee   \n",
       "\n",
       "                                                 url     region   chart  \\\n",
       "0  https://open.spotify.com/track/6mICuAdrwEjh6Y6...  Argentina  top200   \n",
       "1  https://open.spotify.com/track/7DM4BPaS7uofFul...  Argentina  top200   \n",
       "2  https://open.spotify.com/track/3AEZUABDXNtecAO...  Argentina  top200   \n",
       "3  https://open.spotify.com/track/6rQSrBHf7HlZjtc...  Argentina  top200   \n",
       "4  https://open.spotify.com/track/58IL315gMSTD37D...  Argentina  top200   \n",
       "\n",
       "           trend   streams  \n",
       "0  SAME_POSITION  253019.0  \n",
       "1        MOVE_UP  223988.0  \n",
       "2      MOVE_DOWN  210943.0  \n",
       "3  SAME_POSITION  173865.0  \n",
       "4        MOVE_UP  153956.0  "
      ]
     },
     "execution_count": 2,
     "metadata": {},
     "output_type": "execute_result"
    }
   ],
   "source": [
    "data_ = pd.read_csv('..\\data\\charts.csv')\n",
    "data_.head()"
   ]
  },
  {
   "cell_type": "code",
   "execution_count": 3,
   "metadata": {},
   "outputs": [],
   "source": [
    "data = data_#.head(100000)"
   ]
  },
  {
   "cell_type": "code",
   "execution_count": 4,
   "metadata": {},
   "outputs": [],
   "source": [
    "# Artist\n",
    "df_artist = pd.DataFrame(data['artist'].unique(), columns=['name'])\n",
    "df_artist = df_artist.assign(name=df_artist['name'].str.split(', ')).explode('name')\n",
    "df_artist = pd.DataFrame(df_artist['name'].unique(), columns=['name'])\n",
    "df_artist.reset_index(drop = True, inplace=True)\n",
    "df_artist.insert(0, 'artist_id', range(1, 1 + len(df_artist)))\n",
    "\n",
    "# Song\n",
    "df_song = pd.DataFrame(data['title'].unique(), columns=['title'])\n",
    "df_song.insert(0, 'song_id', range(1, 1 + len(df_song)))\n",
    "\n",
    "# Trend\n",
    "df_trend = pd.DataFrame(data['trend'].unique(), columns=['trend'])\n",
    "df_trend.insert(0, 'trend_id', range(1, 1 + len(df_trend)))\n",
    "\n",
    "# Day\n",
    "df_day = pd.DataFrame(data['date'].unique(), columns=['date'])\n",
    "df_day.insert(0, 'day_id', range(1, 1 + len(df_day)))\n",
    "\n",
    "# Region\n",
    "df_region = pd.DataFrame(data['region'].unique(), columns=['name'])\n",
    "df_region.insert(0, 'region_id', range(1, 1 + len(df_region)))\n",
    "\n",
    "# Category\n",
    "df_category = pd.DataFrame(data['chart'].unique(), columns=['name'])\n",
    "df_category.insert(0, 'category_id', range(1, 1 + len(df_category)))"
   ]
  },
  {
   "cell_type": "code",
   "execution_count": 5,
   "metadata": {},
   "outputs": [],
   "source": [
    "artistDict = df_artist.set_index('name').T.to_dict('records')[0]\n",
    "songDict = df_song.set_index('title').T.to_dict('records')[0]\n",
    "trendDict = df_trend.set_index('trend').T.to_dict('records')[0]\n",
    "dayDict = df_day.set_index('date').T.to_dict('records')[0]\n",
    "regionDict = df_region.set_index('name').T.to_dict('records')[0]\n",
    "categoryDict = df_category.set_index('name').T.to_dict('records')[0]"
   ]
  },
  {
   "cell_type": "code",
   "execution_count": 6,
   "metadata": {},
   "outputs": [],
   "source": [
    "df = pd.DataFrame(columns = ['chart_id', 'position', 'song_id', 'day_id', 'region_id', 'category_id', 'trend_id', 'streams'])\n",
    "df.to_csv('../data/df_chart.csv', mode='w', index = 'False')"
   ]
  },
  {
   "cell_type": "code",
   "execution_count": 7,
   "metadata": {},
   "outputs": [
    {
     "name": "stdout",
     "output_type": "stream",
     "text": [
      "Length of data: 100000\n"
     ]
    }
   ],
   "source": [
    "start = 0 # enter the index of the next line to write (to continue enter (last chart_id)), for first time enter 0\n",
    "end = 99999 # last index to write (last value of chart_id will be end+1)\n",
    "data = data_.loc[start:end]\n",
    "data.reset_index(drop = True, inplace=True)\n",
    "print(f\"Length of data: {len(data)}\")"
   ]
  },
  {
   "cell_type": "code",
   "execution_count": 8,
   "metadata": {},
   "outputs": [],
   "source": [
    "saveVal = 10000 #how much record save in one loop\n",
    "num = 10 #how many loops\n",
    "for i in range(0, num):\n",
    "    dataPart = data.loc[i*saveVal:(i+1)*saveVal-1].copy()\n",
    "    # Chart\n",
    "    df_chart = dataPart[['rank', 'title', 'date', 'region', 'chart', 'trend', 'streams']].drop_duplicates().reset_index().drop(columns = ['index'])\n",
    "    df_chart = df_chart.rename(columns = {'title':'song_id', 'rank':'position', 'date':'day_id', 'region':'region_id', 'chart':'category_id', 'trend':'trend_id'})\n",
    "    df_chart.insert(0, 'chart_id', range(start + i*saveVal + 1, start + i*saveVal + 1 + len(df_chart)))\n",
    "    df_chart.replace({\"song_id\": songDict}, inplace=True) \n",
    "    df_chart.replace({\"day_id\": dayDict}, inplace=True) \n",
    "    df_chart.replace({\"region_id\": regionDict}, inplace=True) \n",
    "    df_chart.replace({\"category_id\": categoryDict}, inplace=True) \n",
    "    df_chart.replace({\"trend_id\": trendDict}, inplace=True)\n",
    "    df_chart['streams'] = df_chart['streams'].astype(pd.Int64Dtype())\n",
    "\n",
    "    df_chart.to_csv('../data/df_chart.csv', mode = 'a', header = False, index = False)\n"
   ]
  }
 ],
 "metadata": {
  "kernelspec": {
   "display_name": "Python 3.9.4 ('marcinbereznicki')",
   "language": "python",
   "name": "python3"
  },
  "language_info": {
   "codemirror_mode": {
    "name": "ipython",
    "version": 3
   },
   "file_extension": ".py",
   "mimetype": "text/x-python",
   "name": "python",
   "nbconvert_exporter": "python",
   "pygments_lexer": "ipython3",
   "version": "3.9.4"
  },
  "orig_nbformat": 4,
  "vscode": {
   "interpreter": {
    "hash": "69ba97b6de4c4cceb637ad5abfcb85a29dbe1480b6b2600c1da4d58015243c0a"
   }
  }
 },
 "nbformat": 4,
 "nbformat_minor": 2
}
