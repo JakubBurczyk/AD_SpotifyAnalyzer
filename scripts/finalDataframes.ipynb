{
 "cells": [
  {
   "cell_type": "code",
   "execution_count": 4,
   "metadata": {},
   "outputs": [],
   "source": [
    "import pandas as pd\n",
    "import datetime"
   ]
  },
  {
   "cell_type": "code",
   "execution_count": 6,
   "metadata": {},
   "outputs": [],
   "source": [
    "data_ = pd.read_csv('..\\data\\charts.csv')\n",
    "data_.head()"
   ]
  },
  {
   "cell_type": "code",
   "execution_count": 50,
   "metadata": {},
   "outputs": [],
   "source": [
    "data = data_.iloc[:29999]"
   ]
  },
  {
   "cell_type": "code",
   "execution_count": 7,
   "metadata": {},
   "outputs": [],
   "source": [
    "# Artist\n",
    "df_artist = pd.DataFrame(data['artist'].unique(), columns=['name'])\n",
    "df_artist = df_artist.assign(name=df_artist['name'].str.split(', ')).explode('name')\n",
    "df_artist = pd.DataFrame(df_artist['name'].unique(), columns=['name'])\n",
    "df_artist.reset_index(drop = True, inplace=True)\n",
    "df_artist.insert(0, 'artist_id', range(1, 1 + len(df_artist)))\n",
    "\n",
    "# Song\n",
    "df_song = pd.DataFrame(data['title'].unique(), columns=['title'])\n",
    "df_song.insert(0, 'song_id', range(1, 1 + len(df_song)))\n",
    "\n",
    "# Trend\n",
    "df_trend = pd.DataFrame(data['trend'].unique(), columns=['trend'])\n",
    "df_trend.insert(0, 'trend_id', range(1, 1 + len(df_trend)))\n",
    "\n",
    "# Day\n",
    "df_day = pd.DataFrame(data['date'].unique(), columns=['date'])\n",
    "df_day.insert(0, 'day_id', range(1, 1 + len(df_day)))\n",
    "\n",
    "# Region\n",
    "df_region = pd.DataFrame(data['region'].unique(), columns=['name'])\n",
    "df_region.insert(0, 'region_id', range(1, 1 + len(df_region)))\n",
    "\n",
    "# Category\n",
    "df_category = pd.DataFrame(data['chart'].unique(), columns=['name'])\n",
    "df_category.insert(0, 'category_id', range(1, 1 + len(df_category)))\n"
   ]
  },
  {
   "cell_type": "code",
   "execution_count": 8,
   "metadata": {},
   "outputs": [],
   "source": [
    "artistDict = df_artist.set_index('name').T.to_dict('records')[0]\n",
    "songDict = df_song.set_index('title').T.to_dict('records')[0]\n",
    "trendDict = df_trend.set_index('trend').T.to_dict('records')[0]\n",
    "dayDict = df_day.set_index('date').T.to_dict('records')[0]\n",
    "regionDict = df_region.set_index('name').T.to_dict('records')[0]\n",
    "categoryDict = df_category.set_index('name').T.to_dict('records')[0]"
   ]
  },
  {
   "cell_type": "code",
   "execution_count": 51,
   "metadata": {},
   "outputs": [
    {
     "name": "stdout",
     "output_type": "stream",
     "text": [
      "Data len: 29999 | Batch: 10000 | Batches: 2 | Residual 9999\n"
     ]
    }
   ],
   "source": [
    "batch = 10000\n",
    "batches = int(len(data)/batch)\n",
    "residual = len(data) - batches*batch\n",
    "\n",
    "print(f\"Data len: {len(data)} | Batch: {batch} | Batches: {batches} | Residual {residual}\")"
   ]
  },
  {
   "cell_type": "code",
   "execution_count": 52,
   "metadata": {},
   "outputs": [
    {
     "name": "stdout",
     "output_type": "stream",
     "text": [
      "Batch 1/2 done [13.49668002128601]\n",
      "Batch 2/2 done [12.640635967254639]\n",
      "Batch residual done [12.743932008743286]\n",
      "        title   rank  date  region  chart  trend   streams\n",
      "0         1.0    1.0   1.0     1.0    1.0    1.0  253019.0\n",
      "1         2.0    2.0   1.0     1.0    1.0    2.0  223988.0\n",
      "2         3.0    3.0   1.0     1.0    1.0    3.0  210943.0\n",
      "3         4.0    4.0   1.0     1.0    1.0    1.0  173865.0\n",
      "4         5.0    5.0   1.0     1.0    1.0    2.0  153956.0\n",
      "...       ...    ...   ...     ...    ...    ...       ...\n",
      "29994   245.0  192.0   6.0    11.0    1.0    3.0    8561.0\n",
      "29995   721.0  193.0   6.0    11.0    1.0    3.0    8558.0\n",
      "29996  5248.0  194.0   6.0    11.0    1.0    3.0    8531.0\n",
      "29997   454.0  195.0   6.0    11.0    1.0    3.0    8471.0\n",
      "29998   184.0  196.0   6.0    11.0    1.0    3.0    8425.0\n",
      "\n",
      "[29999 rows x 7 columns]\n"
     ]
    }
   ],
   "source": [
    "df_chart_final = pd.DataFrame()\n",
    "num = 0\n",
    "# MAIN BATCHES\n",
    "start = datetime.datetime.now().timestamp()\n",
    "for j in range(batches):\n",
    "    df_chart = pd.DataFrame(columns=[ 'title','rank', 'date', 'region', 'chart', 'trend', 'streams'])\n",
    "    start = datetime.datetime.now().timestamp()\n",
    "    for i in range(batch):\n",
    "        df_row = data.iloc[num]\n",
    "        title = songDict[df_row.iloc[0]]\n",
    "        rank = df_row.iloc[1]\n",
    "        date = dayDict[df_row.iloc[2]]\n",
    "        region = regionDict[df_row.iloc[5]]\n",
    "        chart = categoryDict[df_row.iloc[6]]\n",
    "        trend = trendDict[df_row.iloc[7]]\n",
    "        streams = df_row.iloc[8]\n",
    "        row = [title, rank, date, region, chart, trend, streams]\n",
    "        df_chart.loc[num] = row\n",
    "    \n",
    "        num +=1\n",
    "        pass\n",
    "    df_chart_final = pd.concat([df_chart_final, df_chart])\n",
    "    \n",
    "    print(f\"Batch {j+1}/{batches} done [{datetime.datetime.now().timestamp()-start}]\")\n",
    "\n",
    "# RESIDUALS\n",
    "start = datetime.datetime.now().timestamp()\n",
    "df_chart = pd.DataFrame(columns=[ 'title','rank', 'date', 'region', 'chart', 'trend', 'streams'])\n",
    "for i in range(residual):\n",
    "    df_row = data.iloc[num]\n",
    "    title = songDict[df_row.iloc[0]]\n",
    "    rank = df_row.iloc[1]\n",
    "    date = dayDict[df_row.iloc[2]]\n",
    "    region = regionDict[df_row.iloc[5]]\n",
    "    chart = categoryDict[df_row.iloc[6]]\n",
    "    trend = trendDict[df_row.iloc[7]]\n",
    "    streams = df_row.iloc[8]\n",
    "    row = [title, rank, date, region, chart, trend, streams]\n",
    "    df_chart.loc[num] = row\n",
    "\n",
    "    num +=1\n",
    "    pass\n",
    "df_chart_final = pd.concat([df_chart_final, df_chart])\n",
    "\n",
    "print(f\"Batch residual done [{datetime.datetime.now().timestamp()-start}]\")\n",
    "df_chart_final.to_csv('../data/df_chart.csv', mode='w', index = 'False')\n",
    "print(df_chart_final)"
   ]
  }
 ],
 "metadata": {
  "kernelspec": {
   "display_name": "Python 3.9.7 ('base')",
   "language": "python",
   "name": "python3"
  },
  "language_info": {
   "codemirror_mode": {
    "name": "ipython",
    "version": 3
   },
   "file_extension": ".py",
   "mimetype": "text/x-python",
   "name": "python",
   "nbconvert_exporter": "python",
   "pygments_lexer": "ipython3",
   "version": "3.9.7"
  },
  "orig_nbformat": 4,
  "vscode": {
   "interpreter": {
    "hash": "ff4f85d6e04298634172ac5d8264e7e9b556b95639fe52ebb9425c4d4cba0c9c"
   }
  }
 },
 "nbformat": 4,
 "nbformat_minor": 2
}
